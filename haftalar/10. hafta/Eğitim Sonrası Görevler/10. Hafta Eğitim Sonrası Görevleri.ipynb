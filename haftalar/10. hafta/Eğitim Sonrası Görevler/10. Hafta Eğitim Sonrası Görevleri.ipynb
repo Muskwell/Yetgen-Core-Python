{
 "cells": [
  {
   "attachments": {},
   "cell_type": "markdown",
   "metadata": {},
   "source": [
    "# Problem 1 "
   ]
  },
  {
   "cell_type": "code",
   "execution_count": 3,
   "metadata": {},
   "outputs": [
    {
     "name": "stdout",
     "output_type": "stream",
     "text": [
      "array: [3 1 4 1 5]\n",
      "Küçükten büyüğe array: [1 1 3 4 5]\n"
     ]
    }
   ],
   "source": [
    "# 1 - numpy kütüphanesini import edin\n",
    "import numpy as np\n",
    "\n",
    "# 2 - 5 elemanlı bir numpy array oluşturun\n",
    "array = np.array([3, 1, 4, 1, 5])\n",
    "\n",
    "# 3 - Oluşturduğunuz arrayi küçükten büyüğe sıralayın.\n",
    "k = np.sort(array)\n",
    "\n",
    "print(\"array:\", array)\n",
    "print(\"Küçükten büyüğe array:\", k)"
   ]
  },
  {
   "attachments": {},
   "cell_type": "markdown",
   "metadata": {},
   "source": [
    "# Problem 2"
   ]
  },
  {
   "cell_type": "code",
   "execution_count": 2,
   "metadata": {},
   "outputs": [
    {
     "name": "stdout",
     "output_type": "stream",
     "text": [
      "Dizi 1: [10 15 30 45 60]\n",
      "Dizi 2: [ 5  6  7  8  9 10 11 12 13 14 15]\n",
      "Dizi 3: [ 50  55  60  65  70  75  80  85  90  95 100]\n",
      "Dizi 4: [0. 0. 0. 0. 0. 0. 0. 0. 0. 0.]\n",
      "Dizi 5: [1. 1. 1. 1. 1. 1. 1. 1. 1. 1.]\n",
      "Dizi 6: [  0.  25.  50.  75. 100.]\n",
      "Dizi 7: [29 22 26 11 11]\n",
      "Dizi 8: [-0.81695918 -0.39078015 -0.94008441  0.6912674  -0.50187954 -0.96738994\n",
      " -0.79603066 -0.58854963 -0.1402804   0.37881094]\n",
      "Matris:\n",
      " [[39 15 50 33 38]\n",
      " [15 36 29 35 34]\n",
      " [10 38 33 48 18]]\n",
      "Satır ve sütun sayıları toplamı: 8\n",
      "En büyük değer: 50\n",
      "En küçük değer: 10\n",
      "Ortalama değer: 31.4\n",
      "En büyük değerin indeksi: 2\n",
      "İlk 3 eleman: [10 11 12]\n",
      "Ters çevrilmiş dizi: [20 19 18 17 16 15 14 13 12 11 10]\n",
      "İlk satır: [39 15 50 33 38]\n",
      "2. satır 3. sütundaki eleman: 29\n",
      "Tüm satırlardaki ilk elemanlar: [39 15 10]\n",
      "Her bir elemanın karesi:\n",
      " [[1521  225 2500 1089 1444]\n",
      " [ 225 1296  841 1225 1156]\n",
      " [ 100 1444 1089 2304  324]]\n",
      "Pozitif çift sayılar:\n",
      " [42 26 26]\n"
     ]
    }
   ],
   "source": [
    "# 1- (10,15,30,45,60) değerlerine sahip numpy dizisi oluşturunuz.\n",
    "dizi1 = np.array([10, 15, 30, 45, 60])\n",
    "print(\"Dizi 1:\", dizi1)\n",
    "\n",
    "# 2- (5-15) arasındaki sayılarla numpy dizisi oluşturunuz.\n",
    "dizi2 = np.arange(5, 16)\n",
    "print(\"Dizi 2:\", dizi2)\n",
    "\n",
    "# 3- (50-100) arasında 5'er 5'er artarak numpy dizisi oluşturunuz.\n",
    "dizi3 = np.arange(50, 101, 5)\n",
    "print(\"Dizi 3:\", dizi3)\n",
    "\n",
    "# 4- 10 elemanlı sıfırlardan oluşan bir dizi oluşturunuz.\n",
    "dizi4 = np.zeros(10)\n",
    "print(\"Dizi 4:\", dizi4)\n",
    "\n",
    "# 5- 10 elemanlı birlerden oluşan bir dizi oluşturunuz.\n",
    "dizi5 = np.ones(10)\n",
    "print(\"Dizi 5:\", dizi5)\n",
    "\n",
    "# 6- (0-100) arasında eşit aralıklı 5 sayı üretin.\n",
    "dizi6 = np.linspace(0, 100, 5)\n",
    "print(\"Dizi 6:\", dizi6)\n",
    "\n",
    "# 7- (10-30) arasında rastgele 5 tane tamsayı üretin.\n",
    "dizi7 = np.random.randint(10, 31, size=5)\n",
    "print(\"Dizi 7:\", dizi7)\n",
    "\n",
    "# 8- [-1 ile 1] arasında 10 adet sayı üretin.\n",
    "dizi8 = np.random.uniform(-1, 1, size=10)\n",
    "print(\"Dizi 8:\", dizi8)\n",
    "\n",
    "# 9- (3x5) boyutlarında (10-50) arasında rastgele bir matris oluşturunuz.\n",
    "matris = np.random.randint(10, 51, size=(3, 5))\n",
    "print(\"Matris:\\n\", matris)\n",
    "\n",
    "# 10- Üretilen matrisin satır ve sütun sayıları toplamlarını hesaplayınız.\n",
    "satir_sayisi, sutun_sayisi = matris.shape\n",
    "toplam = satir_sayisi + sutun_sayisi\n",
    "print(\"Satır ve sütun sayıları toplamı:\", toplam)\n",
    "\n",
    "# 11- Üretilen matrisin en büyük, en küçük ve ortalaması nedir ?\n",
    "en_buyuk = np.max(matris)\n",
    "en_kucuk = np.min(matris)\n",
    "ortalama = np.mean(matris)\n",
    "print(\"En büyük değer:\", en_buyuk)\n",
    "print(\"En küçük değer:\", en_kucuk)\n",
    "print(\"Ortalama değer:\", ortalama)\n",
    "\n",
    "# 12- Üretilen matrisin en büyük değerinin indeksi kaçtır ?\n",
    "en_buyuk_indeks = np.argmax(matris)\n",
    "print(\"En büyük değerin indeksi:\", en_buyuk_indeks)\n",
    "\n",
    "# 13- (10-20) arasındaki sayıları içeren dizinin ilk 3 elemanını seçiniz.\n",
    "dizi13 = np.arange(10, 21)\n",
    "ilk_uc = dizi13[:3]\n",
    "print(\"İlk 3 eleman:\", ilk_uc)\n",
    "\n",
    "# 14- Üretilen dizinin elemanlarını tersten yazdırın.\n",
    "ters_dizi = dizi13[::-1]\n",
    "print(\"Ters çevrilmiş dizi:\", ters_dizi)\n",
    "\n",
    "# 15- Üretilen matrisin ilk satırını seçiniz.\n",
    "ilk_satir = matris[0]\n",
    "print(\"İlk satır:\", ilk_satir)\n",
    "\n",
    "# 16- Üretilen matrisin 2.satır 3.sütundaki elemanı hangisidir ?\n",
    "eleman = matris[1, 2]\n",
    "print(\"2. satır 3. sütundaki eleman:\", eleman)\n",
    "\n",
    "# 17- Üretilen matrisin tüm satırlardaki ilk elemanı seçiniz.\n",
    "ilk_elemanlar = matris[:, 0]\n",
    "print(\"Tüm satırlardaki ilk elemanlar:\", ilk_elemanlar)\n",
    "\n",
    "# 18- Üretilen matrisin her bir elemanının karesini alınız.\n",
    "karesi = np.power(matris, 2)\n",
    "print(\"Her bir elemanın karesi:\\n\", karesi)\n",
    "\n",
    "# 19- Üretilen matris elemanlarının hangisi pozitif çift sayıdır ? Aralığı (-50,+50) arasında yapınız.\n",
    "matris_19 = np.random.randint(-50, 51, size=(3, 5))\n",
    "pozitif_ciftler = matris_19[(matris_19 > 0) & (matris_19 % 2 == 0)]\n",
    "print(\"Pozitif çift sayılar:\\n\", pozitif_ciftler)"
   ]
  }
 ],
 "metadata": {
  "kernelspec": {
   "display_name": "Python 3",
   "language": "python",
   "name": "python3"
  },
  "language_info": {
   "codemirror_mode": {
    "name": "ipython",
    "version": 3
   },
   "file_extension": ".py",
   "mimetype": "text/x-python",
   "name": "python",
   "nbconvert_exporter": "python",
   "pygments_lexer": "ipython3",
   "version": "3.12.0"
  },
  "orig_nbformat": 4,
  "vscode": {
   "interpreter": {
    "hash": "5026d2d6e7aaaaba093def813beadff083d8733e4a511af01735cbabd156995d"
   }
  }
 },
 "nbformat": 4,
 "nbformat_minor": 2
}
