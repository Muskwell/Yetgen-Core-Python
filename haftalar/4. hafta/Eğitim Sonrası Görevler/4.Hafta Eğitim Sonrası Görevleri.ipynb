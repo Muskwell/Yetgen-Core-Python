{
 "cells": [
  {
   "cell_type": "markdown",
   "metadata": {},
   "source": [
    "# Problem 1\n",
    "`ogrenciler` adında bir sözlük oluşturunuz. Kullanıcıdan döngü yardımıyla 3 öğrenci için veri girmesini isteyerek öğrencilerin sırasıyla okul numarası, isim, soy isim, telefon numarası ve doğum tarihi bilgilerini alınız. Aldığınız öğrenci bilgilerini yine aynı döngü yardımıyla `ogrenciler` adındaki sözlükte saklayınız. Daha sonra öğrenci bilgilerinin bulunduğu sözlük yapısını ekrana bastırınız.\n",
    "\n"
   ]
  },
  {
   "cell_type": "code",
   "execution_count": 1,
   "metadata": {},
   "outputs": [
    {
     "name": "stdout",
     "output_type": "stream",
     "text": [
      "\n",
      "1. öğrenci için bilgileri giriniz:\n",
      "\n",
      "2. öğrenci için bilgileri giriniz:\n",
      "\n",
      "3. öğrenci için bilgileri giriniz:\n",
      "\n",
      "Öğrenci Bilgileri:\n",
      "\n",
      "Okul Numarası: 112233\n",
      "İsim: Batu\n",
      "Soy İsim: Tasdelen\n",
      "Telefon Numarası: 05054444444\n",
      "Doğum Tarihi: 02/02/2000\n",
      "\n",
      "Okul Numarası: 112234\n",
      "İsim: ddd\n",
      "Soy İsim: dddd\n",
      "Telefon Numarası: 05043333333\n",
      "Doğum Tarihi: 05.05.2005\n",
      "\n",
      "Okul Numarası: 112232\n",
      "İsim: eeee\n",
      "Soy İsim: ee\n",
      "Telefon Numarası: 05555555555\n",
      "Doğum Tarihi: 01.01.2001\n"
     ]
    }
   ],
   "source": [
    "ogrenciler = {}\n",
    "\n",
    "for i in range(3):\n",
    "    print(f\"\\n{i+1}. öğrenci için bilgileri giriniz:\")\n",
    "    okul_no = input(\"Okul Numarası: \")\n",
    "    isim = input(\"İsim: \")\n",
    "    soy_isim = input(\"Soy İsim: \")\n",
    "    telefon = input(\"Telefon Numarası: \")\n",
    "    dogum_tarihi = input(\"Doğum Tarihi: \")\n",
    "\n",
    "    ogrenciler[okul_no] = {\n",
    "        \"İsim\": isim,\n",
    "        \"Soy İsim\": soy_isim,\n",
    "        \"Telefon Numarası\": telefon,\n",
    "        \"Doğum Tarihi\": dogum_tarihi\n",
    "    }\n",
    "\n",
    "print(\"\\nÖğrenci Bilgileri:\")\n",
    "for okul_no, bilgiler in ogrenciler.items():\n",
    "    print(f\"\\nOkul Numarası: {okul_no}\")\n",
    "    for bilgi, deger in bilgiler.items():\n",
    "        print(f\"{bilgi}: {deger}\")\n"
   ]
  },
  {
   "cell_type": "markdown",
   "metadata": {},
   "source": [
    "# Problem 2\n",
    "\n",
    "### a - Biraz ısınarak başlayalım!\n",
    "\n",
    "```\n",
    "numbers = [5,10,10,15,15,15,20,20,20,20]\n",
    "```\n",
    "\n",
    "Yukarıda `numbers` adında 10 elemanlı bir liste verilmiştir. Bu listenin her elemanını kontrol eden ve tekrar eden elemanları bir kez olacak şekilde başka bir listeye kopyalayan bir program yazınız. Son olarak oluşturduğunuz listeyi ekrana bastırınız.\n",
    "\n",
    "\n",
    "\n",
    "\n",
    "```\n",
    ">Output\n",
    "[5, 10, 15, 20]\n",
    "```\n"
   ]
  },
  {
   "cell_type": "code",
   "execution_count": 2,
   "metadata": {},
   "outputs": [
    {
     "name": "stdout",
     "output_type": "stream",
     "text": [
      "[5, 10, 15, 20]\n"
     ]
    }
   ],
   "source": [
    "numbers = [5, 10, 10, 15, 15, 15, 20, 20, 20, 20]\n",
    "\n",
    "unique_numbers = set()\n",
    "\n",
    "unique_list = []\n",
    "\n",
    "for num in numbers:\n",
    "    if num not in unique_numbers:\n",
    "        unique_numbers.add(num)\n",
    "        unique_list.append(num)\n",
    "\n",
    "print(unique_list)\n"
   ]
  },
  {
   "cell_type": "markdown",
   "metadata": {},
   "source": [
    "### 🌶️ b) Hadi işi biraz daha zorlaştıralım! \n",
    "\n",
    "\n",
    "Şimdiyse senden `numbers` isimli listedeki tekrar eden elemanları `repeatNumbers` adındaki listeye; tekrar etmeyen elemanları `uniqueNumbers`adındaki listeye kopyalayan yazmanı ve listeleri ekrana bastırmanı bekliyoruz\n",
    "\n",
    "```\n",
    ">Output\n",
    "Tekrar Eden Elemanlar: [10, 10, 15, 15, 15, 20, 20, 20, 20]\n",
    "Tekrar Etmeyen Elemanlar: [5]\n",
    "```"
   ]
  },
  {
   "cell_type": "code",
   "execution_count": 3,
   "metadata": {},
   "outputs": [
    {
     "name": "stdout",
     "output_type": "stream",
     "text": [
      "Tekrar Eden Elemanlar: [10, 10, 15, 15, 15, 20, 20, 20, 20]\n",
      "Tekrar Etmeyen Elemanlar: [5]\n"
     ]
    }
   ],
   "source": [
    "numbers = [5, 10, 10, 15, 15, 15, 20, 20, 20, 20]\n",
    "\n",
    "repeatNumbers = []\n",
    "uniqueNumbers = []\n",
    "\n",
    "counts = {}\n",
    "\n",
    "for num in numbers:\n",
    "    if num in counts:\n",
    "        counts[num] += 1\n",
    "    else:\n",
    "        counts[num] = 1\n",
    "\n",
    "for num in numbers:\n",
    "    if counts[num] > 1:\n",
    "        repeatNumbers.append(num)\n",
    "    elif counts[num] == 1 and num not in uniqueNumbers:\n",
    "        uniqueNumbers.append(num)\n",
    "\n",
    "print(\"Tekrar Eden Elemanlar:\", repeatNumbers)\n",
    "print(\"Tekrar Etmeyen Elemanlar:\", uniqueNumbers)\n"
   ]
  },
  {
   "cell_type": "markdown",
   "metadata": {},
   "source": [
    "# Problem 3\n",
    "sn1 = {1,2,3,4,5}\n",
    "\n",
    "sn2 = {4,5,6,7,8}\n",
    "\n",
    " Verilen 2 adet küme için kesişimlerini, farklarını ve birleşimlerini bulunuz. "
   ]
  },
  {
   "cell_type": "code",
   "execution_count": 4,
   "metadata": {},
   "outputs": [
    {
     "name": "stdout",
     "output_type": "stream",
     "text": [
      "Kesişim: {4, 5}\n",
      "sn1 - sn2 Farkı: {1, 2, 3}\n",
      "sn2 - sn1 Farkı: {8, 6, 7}\n",
      "Birleşim: {1, 2, 3, 4, 5, 6, 7, 8}\n"
     ]
    }
   ],
   "source": [
    "sn1 = {1, 2, 3, 4, 5}\n",
    "sn2 = {4, 5, 6, 7, 8}\n",
    "\n",
    "kesisim = sn1 & sn2\n",
    "print(\"Kesişim:\", kesisim)\n",
    "\n",
    "fark_sn1_sn2 = sn1 - sn2\n",
    "print(\"sn1 - sn2 Farkı:\", fark_sn1_sn2)\n",
    "\n",
    "fark_sn2_sn1 = sn2 - sn1\n",
    "print(\"sn2 - sn1 Farkı:\", fark_sn2_sn1)\n",
    "\n",
    "birlesim = sn1 | sn2\n",
    "print(\"Birleşim:\", birlesim)\n"
   ]
  },
  {
   "cell_type": "markdown",
   "metadata": {},
   "source": [
    "# Problem 4\n",
    "\n",
    "Buradaki işlemlerimizin tamamı stringler içindir. Aşağıda verilecek olan metodlar için kendinizin örnek yaratması gerekmektedir. \n",
    "\n",
    "Örneğin `upper` için `string` değişkeni oluştururken` k = \"BAC\"` şeklinde oluşturmayınız. Bunun yerine k değişkenini `k = \"bac`\" şeklinde oluşturmanız `upper` metodundaki değişimi görebilmeniz için daha iyi olacaktır.\n",
    "\n",
    "Bütün metodlardaki değişimin gözle görülür şekilde değişimi beklenmektedir.\n",
    "\n",
    "\n",
    "1- capitalize(), lower(), upper(), swapcase(), title(), replace()\n",
    "\n",
    "2- endswith(), startswith(), find(), index(), count()\n",
    "\n",
    "3- split(), strip(), join(), islower(), isalpha(), isdigit()\n",
    "\n",
    "\n",
    "Yukarıdaki `string` metodlarındaki değişimleri görebildiğimiz bir program yazınız.\n"
   ]
  },
  {
   "cell_type": "code",
   "execution_count": 5,
   "metadata": {},
   "outputs": [
    {
     "name": "stdout",
     "output_type": "stream",
     "text": [
      "Original: bac\n",
      "capitalize(): Bac\n",
      "lower(): bac\n",
      "upper(): BAC\n",
      "swapcase(): BAC\n",
      "title(): Bac\n",
      "replace('a', 'e'): bec\n",
      "\n",
      "Original: hello world\n",
      "endswith('d'): True\n",
      "startswith('h'): True\n",
      "find('o'): 4\n",
      "index('o'): 4\n",
      "count('o'): 2\n",
      "\n",
      "Original:  hello world \n",
      "split(): ['hello', 'world']\n",
      "strip(): hello world\n",
      "join(['hello', 'world']): hello world\n",
      "islower(): True\n",
      "isalpha(): True\n",
      "isdigit(): True\n"
     ]
    }
   ],
   "source": [
    "k = \"bac\"\n",
    "print(\"Original:\", k)\n",
    "print(\"capitalize():\", k.capitalize())\n",
    "print(\"lower():\", k.lower())\n",
    "print(\"upper():\", k.upper())\n",
    "print(\"swapcase():\", k.swapcase())\n",
    "print(\"title():\", k.title())\n",
    "print(\"replace('a', 'e'):\", k.replace('a', 'e'))\n",
    "\n",
    "m = \"hello world\"\n",
    "print(\"\\nOriginal:\", m)\n",
    "print(\"endswith('d'):\", m.endswith('d'))\n",
    "print(\"startswith('h'):\", m.startswith('h'))\n",
    "print(\"find('o'):\", m.find('o'))\n",
    "print(\"index('o'):\", m.index('o'))\n",
    "print(\"count('o'):\", m.count('o'))\n",
    "\n",
    "n = \" hello world \"\n",
    "print(\"\\nOriginal:\", n)\n",
    "print(\"split():\", n.split())\n",
    "print(\"strip():\", n.strip())\n",
    "print(\"join(['hello', 'world']):\", ' '.join(['hello', 'world']))\n",
    "print(\"islower():\", n.islower())\n",
    "p = \"hello\"\n",
    "print(\"isalpha():\", p.isalpha())\n",
    "q = \"12345\"\n",
    "print(\"isdigit():\", q.isdigit())\n"
   ]
  }
 ],
 "metadata": {
  "kernelspec": {
   "display_name": "Python 3.10.5 64-bit",
   "language": "python",
   "name": "python3"
  },
  "language_info": {
   "codemirror_mode": {
    "name": "ipython",
    "version": 3
   },
   "file_extension": ".py",
   "mimetype": "text/x-python",
   "name": "python",
   "nbconvert_exporter": "python",
   "pygments_lexer": "ipython3",
   "version": "3.12.0"
  },
  "orig_nbformat": 4,
  "vscode": {
   "interpreter": {
    "hash": "5026d2d6e7aaaaba093def813beadff083d8733e4a511af01735cbabd156995d"
   }
  }
 },
 "nbformat": 4,
 "nbformat_minor": 2
}
